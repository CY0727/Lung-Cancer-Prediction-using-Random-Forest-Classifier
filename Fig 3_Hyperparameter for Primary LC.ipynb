{
 "cells": [
  {
   "cell_type": "code",
   "execution_count": null,
   "id": "7d895e3e-7db4-4a2c-b9e7-201177d91522",
   "metadata": {},
   "outputs": [],
   "source": [
    "import pandas as pd\n",
    "from sklearn.model_selection import GridSearchCV, train_test_split\n",
    "from sklearn.ensemble import RandomForestClassifier\n",
    "from sklearn.metrics import classification_report, accuracy_score\n",
    "from sklearn.preprocessing import MinMaxScaler\n",
    "\n",
    "# 載入檔案\n",
    "file_path = 'Primary_Transform_exclude benign.xlsx'\n",
    "data = pd.read_excel(file_path)\n",
    "\n",
    "# 數據預處理\n",
    "data['Group'] = data['Group'].map({'NT': 0, 'T': 1})\n",
    "X = data.drop('Group', axis=1)\n",
    "y = data['Group']\n",
    "X.columns = X.columns.astype(str)\n",
    "\n",
    "# 分割數據集為訓練集和測試集\n",
    "X_train, X_test, y_train, y_test = train_test_split(X, y, test_size=0.2, random_state=42)\n",
    "\n",
    "# 應用 MinMaxScaler\n",
    "scaler = MinMaxScaler()\n",
    "X_train_scaled = pd.DataFrame(scaler.fit_transform(X_train), columns=X_train.columns)\n",
    "X_test_scaled = pd.DataFrame(scaler.transform(X_test), columns=X_test.columns)\n",
    "\n",
    "# 定義隨機森林分類器\n",
    "rf = RandomForestClassifier(random_state=42, oob_score=True)\n",
    "\n",
    "# 定義超參數網格\n",
    "param_grid = {\n",
    "    'n_estimators': [50, 100, 200, 500, 1000],\n",
    "    'max_features': ['sqrt', 'log2', None],\n",
    "    'max_depth': [4, 6, 8, 10, 12, 15],\n",
    "    'min_samples_split': [2, 5, 10, 15],\n",
    "    'min_samples_leaf': [1, 2, 4, 6],\n",
    "    'bootstrap': [True],\n",
    "    'criterion': ['gini', 'entropy']\n",
    "}\n",
    "\n",
    "# 使用GridSearchCV進行超參數調整\n",
    "grid_search = GridSearchCV(estimator=rf, param_grid=param_grid, \n",
    "                           cv=5, n_jobs=-1, verbose=2, scoring='accuracy')\n",
    "\n",
    "# 訓練模型\n",
    "grid_search.fit(X_train_scaled, y_train)\n",
    "# 獲取最佳參數\n",
    "best_params = grid_search.best_params_\n",
    "print(\"最佳參數: \", best_params)\n",
    "\n",
    "# 使用最佳參數訓練最終模型\n",
    "best_rf = RandomForestClassifier(**best_params, random_state=42, oob_score=True)\n",
    "best_rf.fit(X_train_scaled, y_train)\n",
    "\n",
    "# 使用OOB樣本評估\n",
    "print(\"OOB分數: \", best_rf.oob_score_)\n",
    "\n",
    "# 預測測試集\n",
    "y_pred_test = best_rf.predict(X_test_scaled)\n",
    "\n",
    "# 評估模型\n",
    "print(\"測試集分類報告:\\n\", classification_report(y_test, y_pred_test))\n",
    "print(\"測試集準確度: \", accuracy_score(y_test, y_pred_test))\n"
   ]
  },
  {
   "cell_type": "code",
   "execution_count": null,
   "id": "ad4fb32b-ba6c-4670-9341-38c73b6e2026",
   "metadata": {},
   "outputs": [],
   "source": [
    "# 交叉验证结果\n",
    "print(\"交叉验证分数: \", grid_search.best_score_)"
   ]
  }
 ],
 "metadata": {
  "kernelspec": {
   "display_name": "Python 3 (ipykernel)",
   "language": "python",
   "name": "python3"
  },
  "language_info": {
   "codemirror_mode": {
    "name": "ipython",
    "version": 3
   },
   "file_extension": ".py",
   "mimetype": "text/x-python",
   "name": "python",
   "nbconvert_exporter": "python",
   "pygments_lexer": "ipython3",
   "version": "3.10.14"
  }
 },
 "nbformat": 4,
 "nbformat_minor": 5
}
